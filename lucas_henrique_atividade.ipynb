{
 "cells": [
  {
   "cell_type": "markdown",
   "id": "ef9c4e97",
   "metadata": {},
   "source": [
    "# --- 1. Importação das Bibliotecas ---"
   ]
  },
  {
   "cell_type": "code",
   "execution_count": null,
   "id": "67413c08",
   "metadata": {},
   "outputs": [
    {
     "name": "stderr",
     "output_type": "stream",
     "text": [
      "/usr/local/python/3.12.1/lib/python3.12/site-packages/tqdm/auto.py:21: TqdmWarning: IProgress not found. Please update jupyter and ipywidgets. See https://ipywidgets.readthedocs.io/en/stable/user_install.html\n",
      "  from .autonotebook import tqdm as notebook_tqdm\n"
     ]
    }
   ],
   "source": [
    "import kagglehub\n",
    "import pandas as pd\n",
    "from transformers import AutoTokenizer, AutoModel\n",
    "import torch\n",
    "import torch.nn.functional as F\n",
    "from torch import Tensor\n",
    "from scipy.spatial.distance import cosine\n",
    "from tqdm import tqdm\n",
    "\n",
    "pd.set_option('display.max_colwidth', None)"
   ]
  },
  {
   "cell_type": "markdown",
   "id": "981c9c37",
   "metadata": {},
   "source": [
    "# --- 2. Funções Essenciais para Geração de Embeddings ---"
   ]
  },
  {
   "cell_type": "code",
   "execution_count": null,
   "id": "0aef8997",
   "metadata": {},
   "outputs": [],
   "source": [
    "# --- 2. Funções Essenciais para Geração de Embeddings ---\n",
    "\n",
    "def average_pool(last_hidden_states: Tensor, attention_mask: Tensor) -> Tensor:\n",
    "    \"\"\"\n",
    "    Realiza a média dos embeddings dos tokens para obter um único embedding para a sentença.\n",
    "    \"\"\"\n",
    "    last_hidden = last_hidden_states.masked_fill(~attention_mask[..., None].bool(), 0.0)\n",
    "    return last_hidden.sum(dim=1) / attention_mask.sum(dim=1)[..., None]\n"
   ]
  },
  {
   "cell_type": "code",
   "execution_count": 8,
   "id": "9808194b",
   "metadata": {},
   "outputs": [
    {
     "name": "stdout",
     "output_type": "stream",
     "text": [
      "Baixando o conjunto de dados MedQuad do Kaggle...\n",
      "Dataset baixado em: /home/codespace/.cache/kagglehub/datasets/pythonafroz/medquad-medical-question-answer-for-ai-research/versions/1\n",
      "\n",
      "Utilizando as primeiras 500 perguntas do dataset.\n",
      "Exemplo de dados:\n",
      "                              question  \\\n",
      "0             What is (are) Glaucoma ?   \n",
      "1               What causes Glaucoma ?   \n",
      "2  What are the symptoms of Glaucoma ?   \n",
      "\n",
      "                                                                                                                                                                                                                                                                                                                                                                                                                                                                                                                                                                                                                                                                                                                                                                                                                                                                                                                                                                                                                                                                                                                                                                                                                                                                                                                                                                                                                                                                                                                                                                                                                                                                                                                                                                                                                                                                                                                       answer  \n",
      "0  Glaucoma is a group of diseases that can damage the eye's optic nerve and result in vision loss and blindness. While glaucoma can strike anyone, the risk is much greater for people over 60. How Glaucoma Develops  There are several different types of glaucoma. Most of these involve the drainage system within the eye. At the front of the eye there is a small space called the anterior chamber. A clear fluid flows through this chamber and bathes and nourishes the nearby tissues. (Watch the video to learn more about glaucoma. To enlarge the video, click the brackets in the lower right-hand corner. To reduce the video, press the Escape (Esc) button on your keyboard.) In glaucoma, for still unknown reasons, the fluid drains too slowly out of the eye. As the fluid builds up, the pressure inside the eye rises. Unless this pressure is controlled, it may cause damage to the optic nerve and other parts of the eye and result in loss of vision. Open-angle Glaucoma The most common type of glaucoma is called open-angle glaucoma. In the normal eye, the clear fluid leaves the anterior chamber at the open angle where the cornea and iris meet. When fluid reaches the angle, it flows through a spongy meshwork, like a drain, and leaves the eye. Sometimes, when the fluid reaches the angle, it passes too slowly through the meshwork drain, causing the pressure inside the eye to build. If the pressure damages the optic nerve, open-angle glaucoma -- and vision loss -- may result. There is no cure for glaucoma. Vision lost from the disease cannot be restored. However, there are treatments that may save remaining vision. That is why early diagnosis is important.  See this graphic for a quick overview of glaucoma,  including how many people it affects, whos at risk, what to do if you have it, and how to learn more.  See a glossary of glaucoma terms.  \n",
      "1                                                                                                                                                                                                                                                                                                                                                                                                                                                                                                                                                                                                                                                                   Nearly 2.7 million people have glaucoma, a leading cause of blindness in the United States. Although anyone can get glaucoma, some people are at higher risk. They include - African-Americans over age 40  - everyone over age 60, especially Hispanics/Latinos  - people with a family history of glaucoma. African-Americans over age 40 everyone over age 60, especially Hispanics/Latinos people with a family history of glaucoma.  In addition to age, eye pressure is a risk factor. Whether you develop glaucoma depends on the level of pressure your optic nerve can tolerate without being damaged. This level is different for each person. Thats why a comprehensive dilated eye exam is very important. It can help your eye care professional determine what level of eye pressure is normal for you. Another risk factor for optic nerve damage relates to blood pressure. Thus, it is important to also make sure that your blood pressure is at a proper level for your body by working with your medical doctor. (Watch the animated video to learn more about the causes of glaucoma. To enlarge the video, click the brackets in the lower right-hand corner. To reduce the video, press the Escape (Esc) button on your keyboard.)  \n",
      "2                                                                                                                                                                                                                                                     Symptoms of Glaucoma  Glaucoma can develop in one or both eyes. The most common type of glaucoma, open-angle glaucoma, has no symptoms at first. It causes no pain, and vision seems normal. Without treatment, people with glaucoma will slowly lose their peripheral, or side vision. They seem to be looking through a tunnel. Over time, straight-ahead vision may decrease until no vision remains. Tests for Glaucoma Glaucoma is detected through a comprehensive eye exam that includes a visual acuity test, visual field test, dilated eye exam, tonometry, and pachymetry. (Watch the animated video to learn more about testing for glaucoma. To enlarge the video, click the brackets in the lower right-hand corner. To reduce the video, press the Escape (Esc) button on your keyboard.)  A visual acuity test uses an eye chart test to measure how well you see at various distances. A visual field test measures your side or peripheral vision. It helps your eye care professional tell if you have lost side vision, a sign of glaucoma. In a dilated eye exam, drops are placed in your eyes to widen, or dilate, the pupils. Your eye care professional uses a special magnifying lens to examine your retina and optic nerve for signs of damage and other eye problems. After the exam, your close-up vision may remain blurred for several hours. In tonometry, an instrument measures the pressure inside the eye. Numbing drops may be applied to your eye for this test. With pachymetry,  a numbing drop is applied to your eye. Your eye care professional uses an ultrasonic wave instrument to measure the thickness of your cornea.  \n"
     ]
    }
   ],
   "source": [
    "# --- 3. Download e Carregamento dos Dados ---\n",
    "print(\"Baixando o conjunto de dados MedQuad do Kaggle...\")\n",
    "try:\n",
    "    path = kagglehub.dataset_download(\"pythonafroz/medquad-medical-question-answer-for-ai-research\")\n",
    "    print(f\"Dataset baixado em: {path}\")\n",
    "    df = pd.read_csv(f\"{path}/medquad.csv\")\n",
    "    \n",
    "    # --- ALTERAÇÃO AQUI ---\n",
    "    # Carregando apenas as 500 primeiras perguntas do conjunto de dados.\n",
    "    # Usamos .copy() para evitar avisos de SettingWithCopyWarning do pandas.\n",
    "    df_amostra = df.head(500).copy()\n",
    "    \n",
    "    print(f\"\\nUtilizando as primeiras {len(df_amostra)} perguntas do dataset.\")\n",
    "    print(\"Exemplo de dados:\")\n",
    "    print(df_amostra[['question', 'answer']].head(3))\n",
    "except Exception as e:\n",
    "    print(f\"Erro ao baixar ou carregar o dataset: {e}\")\n",
    "    exit()"
   ]
  },
  {
   "cell_type": "code",
   "execution_count": 9,
   "id": "d5297f47",
   "metadata": {},
   "outputs": [
    {
     "name": "stdout",
     "output_type": "stream",
     "text": [
      "\n",
      "Carregando o modelo BERT pré-treinado (bert-base-uncased)...\n",
      "Modelo carregado com sucesso.\n"
     ]
    }
   ],
   "source": [
    "# --- 4. Carregamento do Modelo e Tokenizador (sem alterações) ---\n",
    "print(\"\\nCarregando o modelo BERT pré-treinado (bert-base-uncased)...\")\n",
    "nome_modelo = \"bert-base-uncased\"\n",
    "tokenizer = AutoTokenizer.from_pretrained(nome_modelo)\n",
    "model = AutoModel.from_pretrained(nome_modelo)\n",
    "print(\"Modelo carregado com sucesso.\")"
   ]
  },
  {
   "cell_type": "code",
   "execution_count": 10,
   "id": "7ceac80b",
   "metadata": {},
   "outputs": [
    {
     "name": "stdout",
     "output_type": "stream",
     "text": [
      "\n",
      "Iniciando a geração de embeddings para as perguntas do nosso conjunto de dados...\n",
      "Este processo será mais rápido pois estamos usando apenas 500 perguntas.\n",
      "\n",
      "As 10 primeiras perguntas que serão processadas:\n"
     ]
    },
    {
     "name": "stderr",
     "output_type": "stream",
     "text": [
      "Processando perguntas:   0%|          | 1/500 [00:00<01:02,  8.05it/s]"
     ]
    },
    {
     "name": "stdout",
     "output_type": "stream",
     "text": [
      "  1: What is (are) Glaucoma ?...\n",
      "  2: What causes Glaucoma ?...\n"
     ]
    },
    {
     "name": "stderr",
     "output_type": "stream",
     "text": [
      "Processando perguntas:   1%|          | 3/500 [00:00<00:46, 10.74it/s]"
     ]
    },
    {
     "name": "stdout",
     "output_type": "stream",
     "text": [
      "  3: What are the symptoms of Glaucoma ?...\n",
      "  4: What are the treatments for Glaucoma ?...\n",
      "  5: What is (are) Glaucoma ?...\n"
     ]
    },
    {
     "name": "stderr",
     "output_type": "stream",
     "text": [
      "Processando perguntas:   1%|▏         | 7/500 [00:00<00:34, 14.13it/s]"
     ]
    },
    {
     "name": "stdout",
     "output_type": "stream",
     "text": [
      "  6: What is (are) Glaucoma ?...\n",
      "  7: What is (are) Glaucoma ?...\n",
      "  8: Who is at risk for Glaucoma? ?...\n"
     ]
    },
    {
     "name": "stderr",
     "output_type": "stream",
     "text": [
      "Processando perguntas:   2%|▏         | 11/500 [00:00<00:44, 11.05it/s]"
     ]
    },
    {
     "name": "stdout",
     "output_type": "stream",
     "text": [
      "  9: How to prevent Glaucoma ?...\n",
      "  10: What are the symptoms of Glaucoma ?...\n",
      "  ...\n"
     ]
    },
    {
     "name": "stderr",
     "output_type": "stream",
     "text": [
      "Processando perguntas: 100%|██████████| 500/500 [00:32<00:00, 15.37it/s]"
     ]
    },
    {
     "name": "stdout",
     "output_type": "stream",
     "text": [
      "\n",
      "Embeddings gerados e armazenados com sucesso!\n"
     ]
    },
    {
     "name": "stderr",
     "output_type": "stream",
     "text": [
      "\n"
     ]
    }
   ],
   "source": [
    "# --- 5. Pré-cálculo dos Embeddings para o Conjunto de Dados (CÓDIGO MODIFICADO) ---\n",
    "# Esta é a etapa mais demorada, mas só precisa ser executada uma vez.\n",
    "print(\"\\nIniciando a geração de embeddings para as perguntas do nosso conjunto de dados...\")\n",
    "print(\"Este processo será mais rápido pois estamos usando apenas 500 perguntas.\")\n",
    "\n",
    "# Lista para armazenar os embeddings pré-calculados\n",
    "embeddings_dataset = []\n",
    "\n",
    "# --- ALTERAÇÃO AQUI ---\n",
    "# Imprimindo as 10 primeiras perguntas para identificação\n",
    "print(\"\\nAs 10 primeiras perguntas que serão processadas:\")\n",
    "\n",
    "# Usamos o tqdm para mostrar uma barra de progresso\n",
    "# Usamos enumerate para ter um contador (index) no loop\n",
    "for index, pergunta in enumerate(tqdm(df_amostra['question'], desc=\"Processando perguntas\")):\n",
    "    # Imprime apenas as 10 primeiras\n",
    "    if index < 10:\n",
    "        # Truncamos a pergunta em 80 caracteres para não poluir a tela\n",
    "        print(f\"  {index + 1}: {pergunta[:80]}...\")\n",
    "        if index == 9:\n",
    "             print(\"  ...\") # Indica que a impressão de amostras terminou\n",
    "\n",
    "    try:\n",
    "        # Tokeniza a pergunta\n",
    "        tokens_pergunta = tokenizer(pergunta, return_tensors=\"pt\", padding=True, truncation=True, max_length=512)\n",
    "        \n",
    "        # Gera os embeddings dos tokens\n",
    "        with torch.no_grad():\n",
    "            outputs = model(**tokens_pergunta)\n",
    "        \n",
    "        # Aplica o pooling para obter o embedding da sentença\n",
    "        embedding = average_pool(outputs.last_hidden_state, tokens_pergunta['attention_mask'])\n",
    "        \n",
    "        # Converte para um formato mais simples (lista de floats) e adiciona à nossa lista\n",
    "        embeddings_dataset.append(embedding.cpu().numpy().flatten())\n",
    "    except Exception as e:\n",
    "        print(f\"Erro ao processar a pergunta: '{pergunta}'. Erro: {e}\")\n",
    "        # Adiciona um vetor nulo em caso de erro para manter a correspondência de índice\n",
    "        embeddings_dataset.append(None)\n",
    "\n",
    "# Adiciona os vetores gerados como uma nova coluna no DataFrame\n",
    "df_amostra['vetores'] = embeddings_dataset\n",
    "# Remove linhas onde o embedding falhou\n",
    "df_amostra.dropna(subset=['vetores'], inplace=True)\n",
    "print(\"\\nEmbeddings gerados e armazenados com sucesso!\")"
   ]
  },
  {
   "cell_type": "code",
   "execution_count": 11,
   "id": "f809b42a",
   "metadata": {},
   "outputs": [],
   "source": [
    "# --- 6. Função de Busca Semântica ---\n",
    "def encontrar_resposta_similar(pergunta_usuario: str):\n",
    "    \"\"\"\n",
    "    Recebe uma pergunta do usuário, gera seu embedding e a compara com todos os\n",
    "    embeddings pré-calculados do dataset para encontrar a resposta mais similar.\n",
    "    \"\"\"\n",
    "    if df_amostra.empty:\n",
    "        print(\"O DataFrame de amostra está vazio. Não é possível buscar.\")\n",
    "        return\n",
    "        \n",
    "    # 1. Gerar o embedding para a pergunta do usuário\n",
    "    tokens_usuario = tokenizer(pergunta_usuario, return_tensors=\"pt\", padding=True, truncation=True, max_length=512)\n",
    "    with torch.no_grad():\n",
    "        outputs_usuario = model(**tokens_usuario)\n",
    "    embedding_usuario = average_pool(outputs_usuario.last_hidden_state, tokens_usuario['attention_mask'])\n",
    "    vetor_usuario = embedding_usuario.cpu().numpy().flatten()\n",
    "    \n",
    "    # 2. Calcular a similaridade com todas as perguntas do dataset\n",
    "    melhor_score = -1\n",
    "    melhor_indice = -1\n",
    "    \n",
    "    for i, vetor_dataset in enumerate(df_amostra['vetores']):\n",
    "        # A distância de cosseno é 1 - similaridade.\n",
    "        # Logo, a similaridade é 1 - distância.\n",
    "        similaridade = 1 - cosine(vetor_usuario, vetor_dataset)\n",
    "        \n",
    "        if similaridade > melhor_score:\n",
    "            melhor_score = similaridade\n",
    "            melhor_indice = i\n",
    "            \n",
    "    # 3. Obter a resposta correspondente ao melhor score\n",
    "    # Usamos .iloc para acessar a linha pelo índice numérico\n",
    "    indice_original = df_amostra.index[melhor_indice]\n",
    "    pergunta_similar = df_amostra.loc[indice_original, 'question']\n",
    "    resposta_encontrada = df_amostra.loc[indice_original, 'answer']\n",
    "    \n",
    "    return pergunta_similar, resposta_encontrada, melhor_score\n"
   ]
  },
  {
   "cell_type": "code",
   "execution_count": 12,
   "id": "f878bf4c",
   "metadata": {},
   "outputs": [
    {
     "name": "stdout",
     "output_type": "stream",
     "text": [
      "\n",
      "--- Sistema de Busca Semântica de Perguntas Médicas ---\n",
      "Digite sua pergunta em inglês. Digite 'sair' para encerrar.\n",
      "\n",
      "--- Resultado Encontrado ---\n",
      "**Pergunta mais similar no nosso banco de dados (Score: 1.0000):**\n",
      "-> What is (are) Glaucoma ?\n",
      "\n",
      "**Resposta:**\n",
      "Glaucoma is a group of diseases that can damage the eye's optic nerve and result in vision loss and blindness. While glaucoma can strike anyone, the risk is much greater for people over 60. How Glaucoma Develops  There are several different types of glaucoma. Most of these involve the drainage system within the eye. At the front of the eye there is a small space called the anterior chamber. A clear fluid flows through this chamber and bathes and nourishes the nearby tissues. (Watch the video to learn more about glaucoma. To enlarge the video, click the brackets in the lower right-hand corner. To reduce the video, press the Escape (Esc) button on your keyboard.) In glaucoma, for still unknown reasons, the fluid drains too slowly out of the eye. As the fluid builds up, the pressure inside the eye rises. Unless this pressure is controlled, it may cause damage to the optic nerve and other parts of the eye and result in loss of vision. Open-angle Glaucoma The most common type of glaucoma is called open-angle glaucoma. In the normal eye, the clear fluid leaves the anterior chamber at the open angle where the cornea and iris meet. When fluid reaches the angle, it flows through a spongy meshwork, like a drain, and leaves the eye. Sometimes, when the fluid reaches the angle, it passes too slowly through the meshwork drain, causing the pressure inside the eye to build. If the pressure damages the optic nerve, open-angle glaucoma -- and vision loss -- may result. There is no cure for glaucoma. Vision lost from the disease cannot be restored. However, there are treatments that may save remaining vision. That is why early diagnosis is important.  See this graphic for a quick overview of glaucoma,  including how many people it affects, whos at risk, what to do if you have it, and how to learn more.  See a glossary of glaucoma terms.\n",
      "----------------------------\n",
      "\n",
      "--- Resultado Encontrado ---\n",
      "**Pergunta mais similar no nosso banco de dados (Score: 1.0000):**\n",
      "-> What causes Glaucoma ?\n",
      "\n",
      "**Resposta:**\n",
      "Nearly 2.7 million people have glaucoma, a leading cause of blindness in the United States. Although anyone can get glaucoma, some people are at higher risk. They include - African-Americans over age 40  - everyone over age 60, especially Hispanics/Latinos  - people with a family history of glaucoma. African-Americans over age 40 everyone over age 60, especially Hispanics/Latinos people with a family history of glaucoma.  In addition to age, eye pressure is a risk factor. Whether you develop glaucoma depends on the level of pressure your optic nerve can tolerate without being damaged. This level is different for each person. Thats why a comprehensive dilated eye exam is very important. It can help your eye care professional determine what level of eye pressure is normal for you. Another risk factor for optic nerve damage relates to blood pressure. Thus, it is important to also make sure that your blood pressure is at a proper level for your body by working with your medical doctor. (Watch the animated video to learn more about the causes of glaucoma. To enlarge the video, click the brackets in the lower right-hand corner. To reduce the video, press the Escape (Esc) button on your keyboard.)\n",
      "----------------------------\n",
      "\n",
      "--- Resultado Encontrado ---\n",
      "**Pergunta mais similar no nosso banco de dados (Score: 1.0000):**\n",
      "-> What are the symptoms of Glaucoma ?\n",
      "\n",
      "**Resposta:**\n",
      "Symptoms of Glaucoma  Glaucoma can develop in one or both eyes. The most common type of glaucoma, open-angle glaucoma, has no symptoms at first. It causes no pain, and vision seems normal. Without treatment, people with glaucoma will slowly lose their peripheral, or side vision. They seem to be looking through a tunnel. Over time, straight-ahead vision may decrease until no vision remains. Tests for Glaucoma Glaucoma is detected through a comprehensive eye exam that includes a visual acuity test, visual field test, dilated eye exam, tonometry, and pachymetry. (Watch the animated video to learn more about testing for glaucoma. To enlarge the video, click the brackets in the lower right-hand corner. To reduce the video, press the Escape (Esc) button on your keyboard.)  A visual acuity test uses an eye chart test to measure how well you see at various distances. A visual field test measures your side or peripheral vision. It helps your eye care professional tell if you have lost side vision, a sign of glaucoma. In a dilated eye exam, drops are placed in your eyes to widen, or dilate, the pupils. Your eye care professional uses a special magnifying lens to examine your retina and optic nerve for signs of damage and other eye problems. After the exam, your close-up vision may remain blurred for several hours. In tonometry, an instrument measures the pressure inside the eye. Numbing drops may be applied to your eye for this test. With pachymetry,  a numbing drop is applied to your eye. Your eye care professional uses an ultrasonic wave instrument to measure the thickness of your cornea.\n",
      "----------------------------\n",
      "\n",
      "--- Resultado Encontrado ---\n",
      "**Pergunta mais similar no nosso banco de dados (Score: 1.0000):**\n",
      "-> What are the treatments for Glaucoma ?\n",
      "\n",
      "**Resposta:**\n",
      "Although open-angle glaucoma cannot be cured, it can usually be controlled. While treatments may save remaining vision, they do not improve sight already lost from glaucoma. The most common treatments for glaucoma are medication and surgery. Medications  Medications for glaucoma may be either in the form of eye drops or pills. Some drugs reduce pressure by slowing the flow of fluid into the eye. Others help to improve fluid drainage. (Watch the video to learn more about coping with glaucoma. To enlarge the video, click the brackets in the lower right-hand corner. To reduce the video, press the Escape (Esc) button on your keyboard.) For most people with glaucoma, regular use of medications will control the increased fluid pressure. But, these drugs may stop working over time. Or, they may cause side effects. If a problem occurs, the eye care professional may select other drugs, change the dose, or suggest other ways to deal with the problem.  Read or listen to ways some patients are coping with glaucoma. Surgery Laser surgery is another treatment for glaucoma. During laser surgery, a strong beam of light is focused on the part of the anterior chamber where the fluid leaves the eye. This results in a series of small changes that makes it easier for fluid to exit the eye. Over time, the effect of laser surgery may wear off. Patients who have this form of surgery may need to keep taking glaucoma drugs. Researching Causes and Treatments Through studies in the laboratory and with patients, NEI is seeking better ways to detect, treat, and prevent vision loss in people with glaucoma. For example, researchers have discovered genes that could help explain how glaucoma damages the eye. NEI also is supporting studies to learn more about who is likely to get glaucoma, when to treat people who have increased eye pressure, and which treatment to use first.\n",
      "----------------------------\n",
      "Encerrando o programa. Até logo!\n"
     ]
    }
   ],
   "source": [
    "# --- 7. Loop de Interação com o Usuário ---\n",
    "if __name__ == \"__main__\":\n",
    "    print(\"\\n--- Sistema de Busca Semântica de Perguntas Médicas ---\")\n",
    "    print(\"Digite sua pergunta em inglês. Digite 'sair' para encerrar.\")\n",
    "    \n",
    "    while True:\n",
    "        pergunta_do_usuario = input(\"\\nSua pergunta: \")\n",
    "        \n",
    "        if pergunta_do_usuario.lower() in ['sair', 'exit', 'quit']:\n",
    "            print(\"Encerrando o programa. Até logo!\")\n",
    "            break\n",
    "            \n",
    "        if not pergunta_do_usuario.strip():\n",
    "            print(\"Por favor, digite uma pergunta válida.\")\n",
    "            continue\n",
    "        \n",
    "        # Realiza a busca\n",
    "        pergunta_sim, resposta, score = encontrar_resposta_similar(pergunta_do_usuario)\n",
    "        \n",
    "        # Exibe os resultados\n",
    "        print(\"\\n--- Resultado Encontrado ---\")\n",
    "        print(f\"**Pergunta mais similar no nosso banco de dados (Score: {score:.4f}):**\")\n",
    "        print(f\"-> {pergunta_sim}\")\n",
    "        print(\"\\n**Resposta:**\")\n",
    "        print(resposta)\n",
    "        print(\"----------------------------\")"
   ]
  }
 ],
 "metadata": {
  "kernelspec": {
   "display_name": "Python 3",
   "language": "python",
   "name": "python3"
  },
  "language_info": {
   "codemirror_mode": {
    "name": "ipython",
    "version": 3
   },
   "file_extension": ".py",
   "mimetype": "text/x-python",
   "name": "python",
   "nbconvert_exporter": "python",
   "pygments_lexer": "ipython3",
   "version": "3.12.1"
  }
 },
 "nbformat": 4,
 "nbformat_minor": 5
}
